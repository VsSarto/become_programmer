{
 "cells": [
  {
   "cell_type": "code",
   "execution_count": 84,
   "metadata": {},
   "outputs": [
    {
     "name": "stdout",
     "output_type": "stream",
     "text": [
      "*************** The highest score is: 10 ***************\n",
      "\n",
      "1st - [10]\n",
      "2nd - [8]\n",
      "3nd - [7]\n",
      "\n",
      "the last add score: 7\n"
     ]
    }
   ],
   "source": [
    "#high score\n",
    "\n",
    "score = [5,6,8,10,1,3,7]\n",
    "ordem = list(sorted(score, reverse=True))\n",
    "\n",
    "print(\"*\"*15, \"The highest score is:\" , max(ordem),\"*\"*15)\n",
    "\n",
    "print()\n",
    "\n",
    "print(\"1st -\",ordem[0:1],)\n",
    "print(\"2nd -\", ordem[1:2],)\n",
    "print(\"3nd -\", ordem[2:3],)\n",
    "\n",
    "print()\n",
    "print(\"the last add score:\", score[-1] )\n"
   ]
  },
  {
   "cell_type": "code",
   "execution_count": null,
   "metadata": {},
   "outputs": [],
   "source": [
    "\n"
   ]
  },
  {
   "cell_type": "code",
   "execution_count": null,
   "metadata": {},
   "outputs": [],
   "source": []
  },
  {
   "cell_type": "code",
   "execution_count": null,
   "metadata": {},
   "outputs": [],
   "source": []
  },
  {
   "cell_type": "code",
   "execution_count": null,
   "metadata": {},
   "outputs": [],
   "source": []
  }
 ],
 "metadata": {
  "kernelspec": {
   "display_name": "Python 3",
   "language": "python",
   "name": "python3"
  },
  "language_info": {
   "codemirror_mode": {
    "name": "ipython",
    "version": 3
   },
   "file_extension": ".py",
   "mimetype": "text/x-python",
   "name": "python",
   "nbconvert_exporter": "python",
   "pygments_lexer": "ipython3",
   "version": "3.7.3"
  }
 },
 "nbformat": 4,
 "nbformat_minor": 2
}
